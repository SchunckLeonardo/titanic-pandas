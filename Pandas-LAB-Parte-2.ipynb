{
 "cells": [
  {
   "cell_type": "markdown",
   "id": "628d5ce6-1297-4751-bd44-bec4399a81ee",
   "metadata": {},
   "source": [
    "<img src=\"https://github.com/danielscarvalho/data/blob/master/img/FIAP-logo.png?raw=True\" style=\"float:right;\" width=\"200px\">\n",
    "\n",
    "# DATA SCIENCE & STATISTICAL COMPUTING [》](https://www.fiap.com.br/)\n",
    "\n",
    "## Dataframe & Python\n",
    "\n",
    "### LAP Parte 2: “Cookbook\"\n",
    "\n",
    "https://pandas.pydata.org/docs/user_guide/cookbook.html#cookbook"
   ]
  },
  {
   "cell_type": "markdown",
   "id": "861292ea-6439-49eb-8872-4efc3e252618",
   "metadata": {},
   "source": [
    "Sugestão: Colocar a página do Cookbook lado a lado com este notebook para realizar as operações."
   ]
  },
  {
   "cell_type": "code",
   "execution_count": 2,
   "id": "15691e2b-8f0f-455d-9ad8-216eaa7f1493",
   "metadata": {},
   "outputs": [],
   "source": [
    "import pandas as pd\n",
    "import numpy as np"
   ]
  },
  {
   "cell_type": "code",
   "execution_count": null,
   "id": "6512d58a-1461-490c-826e-c19d7b869b31",
   "metadata": {},
   "outputs": [],
   "source": [
    "df = pd.DataFrame(\n",
    "    {\"AAA\": [4, 5, 6, 7], \"BBB\": [10, 20, 30, 40], \"CCC\": [100, 50, -30, -50]}\n",
    ")"
   ]
  },
  {
   "cell_type": "code",
   "execution_count": null,
   "id": "6e4d8b86",
   "metadata": {},
   "outputs": [],
   "source": [
    "df.loc[df.AAA >= 5, \"BBB\"] = -1"
   ]
  },
  {
   "cell_type": "code",
   "execution_count": null,
   "id": "634114e7",
   "metadata": {},
   "outputs": [],
   "source": [
    "df.loc[df.AAA >= 5, [\"BBB\", \"CCC\"]] = 555"
   ]
  },
  {
   "cell_type": "code",
   "execution_count": null,
   "id": "a9c39987",
   "metadata": {},
   "outputs": [],
   "source": [
    "df.loc[df.AAA < 5, [\"BBB\", \"CCC\"]] = 2000"
   ]
  },
  {
   "cell_type": "code",
   "execution_count": null,
   "id": "93b741b0",
   "metadata": {},
   "outputs": [],
   "source": [
    "df_mask = pd.DataFrame(\n",
    "    {\"AAA\": [True] * 4, \"BBB\": [False] * 4, \"CCC\": [True, False] * 2}\n",
    ")\n",
    "\n",
    "\n",
    "df.where(df_mask, -1000)"
   ]
  },
  {
   "cell_type": "code",
   "execution_count": null,
   "id": "f7b357b9",
   "metadata": {},
   "outputs": [],
   "source": [
    "df = pd.DataFrame(\n",
    "    {\"AAA\": [4, 5, 6, 7], \"BBB\": [10, 20, 30, 40], \"CCC\": [100, 50, -30, -50]}\n",
    ")\n",
    "\n",
    "\n",
    "df"
   ]
  },
  {
   "cell_type": "code",
   "execution_count": null,
   "id": "30414864",
   "metadata": {},
   "outputs": [],
   "source": [
    "df[df.AAA <= 5]"
   ]
  },
  {
   "cell_type": "code",
   "execution_count": null,
   "id": "e56bfa90",
   "metadata": {},
   "outputs": [],
   "source": []
  }
 ],
 "metadata": {
  "kernelspec": {
   "display_name": "Python 3 (ipykernel)",
   "language": "python",
   "name": "python3"
  },
  "language_info": {
   "codemirror_mode": {
    "name": "ipython",
    "version": 3
   },
   "file_extension": ".py",
   "mimetype": "text/x-python",
   "name": "python",
   "nbconvert_exporter": "python",
   "pygments_lexer": "ipython3",
   "version": "3.11.5"
  }
 },
 "nbformat": 4,
 "nbformat_minor": 5
}
